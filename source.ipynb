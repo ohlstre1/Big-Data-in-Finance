{
 "cells": [
  {
   "cell_type": "code",
   "execution_count": 2,
   "metadata": {},
   "outputs": [
    {
     "data": {
      "text/plain": [
       "'/Users/edvardohlstrom/Documents/UCLouvain/Big data in finance'"
      ]
     },
     "execution_count": 2,
     "metadata": {},
     "output_type": "execute_result"
    }
   ],
   "source": [
    "import pandas as pd\n",
    "import os\n",
    "import numpy as np\n",
    "import matplotlib.pyplot as plt\n",
    "import pypfopt\n",
    "from pypfopt.expected_returns import mean_historical_return\n",
    "from pypfopt.efficient_frontier import EfficientFrontier\n",
    "from pypfopt import risk_models\n",
    "\n",
    "os.getcwd()"
   ]
  },
  {
   "cell_type": "code",
   "execution_count": 51,
   "metadata": {},
   "outputs": [
    {
     "name": "stdout",
     "output_type": "stream",
     "text": [
      "Read and cleaned data from path:  Data/10_Industry_Portfolios.csv\n"
     ]
    }
   ],
   "source": [
    "def read_clean_data(path):\n",
    "    df = pd.read_csv(path,low_memory=False)\n",
    "    df = df.dropna(axis=0) # removes rows with null values\n",
    "    if \"Daily\" in path: \n",
    "        df ['Date'] = pd.to_datetime(df ['Date'],format=\"%Y%m%d\")\n",
    "        df  = df [(df ['Date'] >= \"1970-01-01\") & (df ['Date'] <= \"2022-12-31\" )]\n",
    "        df ['Date'] = df ['Date'].dt.strftime('%Y-%m-%d')\n",
    "    else:\n",
    "        df['Date'] = pd.to_datetime(df['Date'],format=\"%Y%m\")\n",
    "        df = df[(df['Date'] >= \"1970-01\") & (df['Date'] <= \"2022-12\" )]\n",
    "    #print(df.info)\n",
    "    df  = df.drop(df.columns[0], axis=1) # remove date column\n",
    "    df = df.astype(float)\n",
    "    df  = df*(0.01)\n",
    "    \n",
    "    #test1\n",
    "    if df.isnull().values.any():\n",
    "        print(\"DataFrame contains null values\")\n",
    "    \n",
    "    #test2\n",
    "    non_numeric_df = df.select_dtypes(exclude=['number'])\n",
    "    non_numeric_values = [val for val in non_numeric_df.stack().tolist()]\n",
    "    if non_numeric_values == 0:\n",
    "        print(\"DataFrame contain non decimal values\")\n",
    "\n",
    "    print( \"Read and cleaned data from path: \", path)\n",
    "    return df\n",
    "\n",
    "df = read_clean_data(\"Data/10_Industry_Portfolios.csv\")\n",
    "#df = read_clean_data(\"Data/10_Industry_Portfolios_Daily.csv\")\n",
    "#df = read_clean_data(\"Data/25_Portfolios_5x5.CSV\")\n",
    "#df = read_clean_data(\"Data/25_Portfolios_5x5_Daily.csv\")\n",
    "#df = read_clean_data(\"Data/100_Portfolios_10x10.CSV\")\n",
    "#df = read_clean_data(\"Data/100_Portfolios_10x10_Daily.csv\")\n",
    "#df = read_clean_data(\"Data/48_Industry_Portfolios.CSV\")\n",
    "#df = read_clean_data(\"Data/48_Industry_Portfolios_Daily.csv\")\n"
   ]
  },
  {
   "cell_type": "code",
   "execution_count": 48,
   "metadata": {},
   "outputs": [],
   "source": [
    "#daily\n",
    "idx_s = 0\n",
    "idx_e = 2526\n",
    "idx_overlap = 105\n",
    "num_of_windows = 86 \n",
    "min_var = []\n",
    "\n",
    "for i in range(num_of_windows):\n",
    "    temp = df.iloc[(i*105):(2526+i*105)]\n",
    "    mu = mean_historical_return(temp, returns_data=True, compounding=False)\n",
    "    S = risk_models.sample_cov(temp, returns_data=True)\n",
    "    ef = EfficientFrontier(mu, S)\n",
    "    ef.min_volatility() \n",
    "    temp2 = df.iloc[(2526+i*105):(2526+105+i*105)]\n",
    "    m = np.mean(temp2.to_numpy()*ef.weights)*12\n",
    "    var = np.std(temp2.to_numpy()*ef.weights)*np.sqrt(12)\n",
    "    sharp = m/var\n",
    "    min_var.append([m,var,sharp])\n",
    "\n"
   ]
  },
  {
   "cell_type": "code",
   "execution_count": 58,
   "metadata": {},
   "outputs": [],
   "source": [
    "#monthly\n",
    "idx_s = 0\n",
    "idx_e = 120\n",
    "idx_overlap = 6\n",
    "num_of_windows = 86 \n",
    "min_var = []\n",
    "\n",
    "for i in range(num_of_windows):\n",
    "    temp = df.iloc[(i*6):(120+i*6)]\n",
    "    mu = mean_historical_return(temp, returns_data=True, compounding=False, frequency=12)\n",
    "    S = risk_models.sample_cov(temp, returns_data=True, frequency=12)\n",
    "    ef = EfficientFrontier(mu, S)\n",
    "    ef.min_volatility() \n",
    "    temp2 = df.iloc[(120+i*6):(126+i*6)]\n",
    "    m = np.mean(temp2.to_numpy()*ef.weights)*12\n",
    "    var = np.std(temp2.to_numpy()*ef.weights)*np.sqrt(12)\n",
    "    sharp = m/var\n",
    "    min_var.append([m,var,sharp])\n"
   ]
  },
  {
   "attachments": {},
   "cell_type": "markdown",
   "metadata": {},
   "source": [
    "Compare the in-sample and out-of-sample performance of three portfolio strategies: sample mean-variance portfolio, sample minimum-variance portfolio and equally weighted portfolio. For the in-sample performance, compute the three portfolios on all returns directly. For the out-of-sample performance, implement a rolling-window approach: use an estimation window of 10 years, compute the out-of-sample performance on the next six months, and then roll over the windows by six months until the end of the sample is achieved. Report the performance in terms of annualized mean, volatility and Sharpe ratio.\n",
    "\n",
    "Discuss your results and explain why you obtain such results. What is the impact of the return frequency (daily or monthly)? How stable are the portfolio weights over time (e.g. by computing the turnover or plotting boxplots)?"
   ]
  },
  {
   "attachments": {},
   "cell_type": "markdown",
   "metadata": {},
   "source": [
    "Sample mean-variance portfolio"
   ]
  },
  {
   "cell_type": "code",
   "execution_count": 52,
   "metadata": {},
   "outputs": [],
   "source": [
    "\n",
    "mu = mean_historical_return(df, returns_data=True, compounding=False, frequency=12)\n",
    "S = risk_models.sample_cov(df, returns_data=True, frequency=12)\n"
   ]
  },
  {
   "cell_type": "code",
   "execution_count": 53,
   "metadata": {},
   "outputs": [
    {
     "name": "stdout",
     "output_type": "stream",
     "text": [
      "Expected annual return: 12.1%\n",
      "Annual volatility: 13.2%\n",
      "Sharpe Ratio: 0.77\n"
     ]
    },
    {
     "data": {
      "text/plain": [
       "(0.12144871655779223, 0.13192098940806246, 0.7690111862638297)"
      ]
     },
     "execution_count": 53,
     "metadata": {},
     "output_type": "execute_result"
    }
   ],
   "source": [
    "# Max sharpe portofolio\n",
    "ef = EfficientFrontier(mu, S)\n",
    "ef.max_sharpe()\n",
    "ef.portfolio_performance(verbose=True)"
   ]
  },
  {
   "cell_type": "code",
   "execution_count": 54,
   "metadata": {},
   "outputs": [
    {
     "name": "stdout",
     "output_type": "stream",
     "text": [
      "Expected annual return: 11.4%\n",
      "Annual volatility: 12.7%\n",
      "Sharpe Ratio: 0.74\n"
     ]
    },
    {
     "data": {
      "text/plain": [
       "array([0.15513921, 0.        , 0.        , 0.01260474, 0.        ,\n",
       "       0.18241837, 0.        , 0.16860603, 0.48123164, 0.        ])"
      ]
     },
     "execution_count": 54,
     "metadata": {},
     "output_type": "execute_result"
    }
   ],
   "source": [
    "#sample minimum-variance portfolio\n",
    "ef = EfficientFrontier(mu, S)\n",
    "ef.min_volatility() \n",
    "ef.portfolio_performance(verbose=True)\n",
    "ef.weights"
   ]
  },
  {
   "cell_type": "code",
   "execution_count": null,
   "metadata": {},
   "outputs": [],
   "source": [
    "# sample mean-variance portfolio\n",
    "# maybe same as max sharpe"
   ]
  },
  {
   "cell_type": "code",
   "execution_count": 57,
   "metadata": {},
   "outputs": [
    {
     "name": "stdout",
     "output_type": "stream",
     "text": [
      "Expected annual return: 11.9%\n",
      "Annual volatility: 15.2%\n",
      "Sharpe Ratio: 0.65\n"
     ]
    },
    {
     "data": {
      "text/plain": [
       "(0.1185569811320755, 0.1518092285364946, 0.6492160067092536)"
      ]
     },
     "execution_count": 57,
     "metadata": {},
     "output_type": "execute_result"
    }
   ],
   "source": [
    "# equally weighted portfolio\n",
    "ef = EfficientFrontier(mu, S)\n",
    "\n",
    "\n",
    "my_list = df.columns.to_list()\n",
    "my_dict = {k: 0.1 for k in my_list}\n",
    "\n",
    "ef.set_weights(my_dict)\n",
    "ef.portfolio_performance(verbose=True)\n",
    "\n"
   ]
  }
 ],
 "metadata": {
  "kernelspec": {
   "display_name": "Python 3",
   "language": "python",
   "name": "python3"
  },
  "language_info": {
   "codemirror_mode": {
    "name": "ipython",
    "version": 3
   },
   "file_extension": ".py",
   "mimetype": "text/x-python",
   "name": "python",
   "nbconvert_exporter": "python",
   "pygments_lexer": "ipython3",
   "version": "3.11.2"
  },
  "orig_nbformat": 4
 },
 "nbformat": 4,
 "nbformat_minor": 2
}
